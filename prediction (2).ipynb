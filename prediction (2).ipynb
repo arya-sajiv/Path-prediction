{
 "cells": [
  {
   "cell_type": "markdown",
   "id": "9bee31d5-3373-4418-a3ec-431d0160b42b",
   "metadata": {},
   "source": [
    " ## Loading dataset"
   ]
  },
  {
   "cell_type": "code",
   "execution_count": 2,
   "id": "57f93453-bca3-4479-8f0e-77d3b527010e",
   "metadata": {},
   "outputs": [
    {
     "name": "stdout",
     "output_type": "stream",
     "text": [
      "           0           1  2    3             4           5         6\n",
      "0  39.984702  116.318417  0  492  39744.120185  2008-10-23  02:53:04\n",
      "1  39.984683  116.318450  0  492  39744.120255  2008-10-23  02:53:10\n",
      "2  39.984686  116.318417  0  492  39744.120313  2008-10-23  02:53:15\n",
      "3  39.984688  116.318385  0  492  39744.120370  2008-10-23  02:53:20\n",
      "4  39.984655  116.318263  0  492  39744.120428  2008-10-23  02:53:25\n"
     ]
    }
   ],
   "source": [
    "import os\n",
    "import pandas as pd\n",
    "\n",
    "base_dir = base_dir = r\"C:\\Users\\nandh\\Downloads\\archive\\Geolife Trajectories 1.3\\Data\"\n",
    "\n",
    "for user_id in os.listdir(base_dir):\n",
    "    user_path = os.path.join(base_dir, user_id, 'Trajectory')\n",
    "    for file_name in os.listdir(user_path):\n",
    "        if file_name.endswith('.plt'):\n",
    "            file_path = os.path.join(user_path, file_name)\n",
    "            df = pd.read_csv(file_path, skiprows=6, header=None)\n",
    "            print(df.head())  # Show first trajectory\n",
    "            break  # remove break to process all files\n",
    "    break  # remove break to process all users\n"
   ]
  },
  {
   "cell_type": "code",
   "execution_count": 3,
   "id": "f381379d-3e31-45af-8a62-7e00e2ed3fa1",
   "metadata": {},
   "outputs": [],
   "source": [
    "import os\n",
    "import pandas as pd\n",
    "import numpy as np\n",
    "from sklearn.preprocessing import MinMaxScaler\n",
    "import matplotlib.pyplot as plt\n",
    "from tensorflow.keras.models import Sequential\n",
    "from tensorflow.keras.layers import LSTM, Dense\n"
   ]
  },
  {
   "cell_type": "markdown",
   "id": "d18b9463-9d85-4584-a40c-420f6de091e0",
   "metadata": {},
   "source": [
    "## Reading Geolife Trajectory Files"
   ]
  },
  {
   "cell_type": "code",
   "execution_count": 5,
   "id": "c850594f-42c5-40c3-a7ce-2420877e09af",
   "metadata": {},
   "outputs": [],
   "source": [
    "def read_geolife_trajectory(file_path):\n",
    "    df = pd.read_csv(file_path, skiprows=6, header=None)\n",
    "    df.columns = ['lat', 'lon', 'zero', 'altitude', 'date', 'time', 'unused']\n",
    "    try:\n",
    "        df['datetime'] = pd.to_datetime(df['date'].astype(str) + ' ' + df['time'].astype(str))\n",
    "    except:\n",
    "        df['datetime'] = pd.to_datetime(df['time'].astype(str))\n",
    "    return df[['lat', 'lon', 'datetime']]"
   ]
  },
  {
   "cell_type": "code",
   "execution_count": null,
   "id": "f760b0f7-d021-4ef7-a997-c30a84127001",
   "metadata": {},
   "outputs": [],
   "source": [
    "base_dir = base_dir = r\"C:\\Users\\nandh\\Downloads\\archive\\Geolife Trajectories 1.3\\Data\"\n",
    "trajectories = []\n",
    "\n",
    "for user_id in os.listdir(base_dir)[:5]:  # Limit to 5 users\n",
    "    traj_dir = os.path.join(base_dir, user_id, 'Trajectory')\n",
    "    for file in os.listdir(traj_dir)[:3]:  # First 3 files\n",
    "        file_path = os.path.join(traj_dir, file)\n",
    "        try:\n",
    "            df = read_geolife_trajectory(file_path)\n",
    "            if len(df) >= 20:\n",
    "                trajectories.append(df[['lat', 'lon']])\n",
    "        except Exception as e:\n",
    "            print(\"Error:\", e)\n"
   ]
  },
  {
   "cell_type": "markdown",
   "id": "8c6e4925-b085-4911-8d3b-54733d4b76a5",
   "metadata": {},
   "source": [
    "## preprocessing\n"
   ]
  },
  {
   "cell_type": "code",
   "execution_count": 8,
   "id": "ca0e21b2-e906-451f-a06d-b5f464bfdc1e",
   "metadata": {},
   "outputs": [
    {
     "name": "stdout",
     "output_type": "stream",
     "text": [
      "X shape: (26268, 10, 2)\n",
      "y shape: (26268, 2)\n"
     ]
    }
   ],
   "source": [
    "scaler = MinMaxScaler()\n",
    "sequence_length = 10\n",
    "X, y = [], []\n",
    "\n",
    "for traj in trajectories:\n",
    "    coords = traj[['lat', 'lon']].values\n",
    "    coords = scaler.fit_transform(coords)\n",
    "    for i in range(len(coords) - sequence_length):\n",
    "        X.append(coords[i:i+sequence_length])\n",
    "        y.append(coords[i+sequence_length])\n",
    "\n",
    "X = np.array(X)\n",
    "y = np.array(y)\n",
    "\n",
    "print(\"X shape:\", X.shape)  # (samples, 10, 2)\n",
    "print(\"y shape:\", y.shape)  # (samples, 2)\n"
   ]
  },
  {
   "cell_type": "markdown",
   "id": "86eeb041-9332-4299-96b9-34e3b5204194",
   "metadata": {},
   "source": [
    "## Building and Training the LSTM Model\n"
   ]
  },
  {
   "cell_type": "code",
   "execution_count": 10,
   "id": "f6431d54-8bb9-4482-897f-de8997060ede",
   "metadata": {},
   "outputs": [
    {
     "name": "stdout",
     "output_type": "stream",
     "text": [
      "Epoch 1/20\n"
     ]
    },
    {
     "name": "stderr",
     "output_type": "stream",
     "text": [
      "C:\\Users\\nandh\\anaconda3\\Lib\\site-packages\\keras\\src\\layers\\rnn\\rnn.py:200: UserWarning: Do not pass an `input_shape`/`input_dim` argument to a layer. When using Sequential models, prefer using an `Input(shape)` object as the first layer in the model instead.\n",
      "  super().__init__(**kwargs)\n"
     ]
    },
    {
     "name": "stdout",
     "output_type": "stream",
     "text": [
      "\u001b[1m657/657\u001b[0m \u001b[32m━━━━━━━━━━━━━━━━━━━━\u001b[0m\u001b[37m\u001b[0m \u001b[1m5s\u001b[0m 5ms/step - loss: 0.0192 - val_loss: 0.0011\n",
      "Epoch 2/20\n",
      "\u001b[1m657/657\u001b[0m \u001b[32m━━━━━━━━━━━━━━━━━━━━\u001b[0m\u001b[37m\u001b[0m \u001b[1m3s\u001b[0m 4ms/step - loss: 2.8945e-04 - val_loss: 9.2649e-04\n",
      "Epoch 3/20\n",
      "\u001b[1m657/657\u001b[0m \u001b[32m━━━━━━━━━━━━━━━━━━━━\u001b[0m\u001b[37m\u001b[0m \u001b[1m3s\u001b[0m 5ms/step - loss: 2.6645e-04 - val_loss: 7.8709e-04\n",
      "Epoch 4/20\n",
      "\u001b[1m657/657\u001b[0m \u001b[32m━━━━━━━━━━━━━━━━━━━━\u001b[0m\u001b[37m\u001b[0m \u001b[1m3s\u001b[0m 4ms/step - loss: 2.4078e-04 - val_loss: 6.6242e-04\n",
      "Epoch 5/20\n",
      "\u001b[1m657/657\u001b[0m \u001b[32m━━━━━━━━━━━━━━━━━━━━\u001b[0m\u001b[37m\u001b[0m \u001b[1m3s\u001b[0m 5ms/step - loss: 1.8163e-04 - val_loss: 4.4788e-04\n",
      "Epoch 6/20\n",
      "\u001b[1m657/657\u001b[0m \u001b[32m━━━━━━━━━━━━━━━━━━━━\u001b[0m\u001b[37m\u001b[0m \u001b[1m3s\u001b[0m 5ms/step - loss: 1.5860e-04 - val_loss: 3.6760e-04\n",
      "Epoch 7/20\n",
      "\u001b[1m657/657\u001b[0m \u001b[32m━━━━━━━━━━━━━━━━━━━━\u001b[0m\u001b[37m\u001b[0m \u001b[1m3s\u001b[0m 5ms/step - loss: 1.2908e-04 - val_loss: 2.7937e-04\n",
      "Epoch 8/20\n",
      "\u001b[1m657/657\u001b[0m \u001b[32m━━━━━━━━━━━━━━━━━━━━\u001b[0m\u001b[37m\u001b[0m \u001b[1m3s\u001b[0m 5ms/step - loss: 1.2616e-04 - val_loss: 3.0377e-04\n",
      "Epoch 9/20\n",
      "\u001b[1m657/657\u001b[0m \u001b[32m━━━━━━━━━━━━━━━━━━━━\u001b[0m\u001b[37m\u001b[0m \u001b[1m3s\u001b[0m 4ms/step - loss: 1.1043e-04 - val_loss: 2.6095e-04\n",
      "Epoch 10/20\n",
      "\u001b[1m657/657\u001b[0m \u001b[32m━━━━━━━━━━━━━━━━━━━━\u001b[0m\u001b[37m\u001b[0m \u001b[1m3s\u001b[0m 5ms/step - loss: 1.1697e-04 - val_loss: 2.0364e-04\n",
      "Epoch 11/20\n",
      "\u001b[1m657/657\u001b[0m \u001b[32m━━━━━━━━━━━━━━━━━━━━\u001b[0m\u001b[37m\u001b[0m \u001b[1m3s\u001b[0m 5ms/step - loss: 1.0442e-04 - val_loss: 1.7939e-04\n",
      "Epoch 12/20\n",
      "\u001b[1m657/657\u001b[0m \u001b[32m━━━━━━━━━━━━━━━━━━━━\u001b[0m\u001b[37m\u001b[0m \u001b[1m3s\u001b[0m 5ms/step - loss: 7.6650e-05 - val_loss: 1.7473e-04\n",
      "Epoch 13/20\n",
      "\u001b[1m657/657\u001b[0m \u001b[32m━━━━━━━━━━━━━━━━━━━━\u001b[0m\u001b[37m\u001b[0m \u001b[1m3s\u001b[0m 5ms/step - loss: 7.9467e-05 - val_loss: 1.5855e-04\n",
      "Epoch 14/20\n",
      "\u001b[1m657/657\u001b[0m \u001b[32m━━━━━━━━━━━━━━━━━━━━\u001b[0m\u001b[37m\u001b[0m \u001b[1m3s\u001b[0m 4ms/step - loss: 9.0918e-05 - val_loss: 1.6270e-04\n",
      "Epoch 15/20\n",
      "\u001b[1m657/657\u001b[0m \u001b[32m━━━━━━━━━━━━━━━━━━━━\u001b[0m\u001b[37m\u001b[0m \u001b[1m3s\u001b[0m 4ms/step - loss: 7.9275e-05 - val_loss: 1.7776e-04\n",
      "Epoch 16/20\n",
      "\u001b[1m657/657\u001b[0m \u001b[32m━━━━━━━━━━━━━━━━━━━━\u001b[0m\u001b[37m\u001b[0m \u001b[1m3s\u001b[0m 5ms/step - loss: 8.1433e-05 - val_loss: 1.4587e-04\n",
      "Epoch 17/20\n",
      "\u001b[1m657/657\u001b[0m \u001b[32m━━━━━━━━━━━━━━━━━━━━\u001b[0m\u001b[37m\u001b[0m \u001b[1m3s\u001b[0m 4ms/step - loss: 7.1554e-05 - val_loss: 1.4995e-04\n",
      "Epoch 18/20\n",
      "\u001b[1m657/657\u001b[0m \u001b[32m━━━━━━━━━━━━━━━━━━━━\u001b[0m\u001b[37m\u001b[0m \u001b[1m3s\u001b[0m 5ms/step - loss: 7.5054e-05 - val_loss: 1.4173e-04\n",
      "Epoch 19/20\n",
      "\u001b[1m657/657\u001b[0m \u001b[32m━━━━━━━━━━━━━━━━━━━━\u001b[0m\u001b[37m\u001b[0m \u001b[1m3s\u001b[0m 4ms/step - loss: 1.1233e-04 - val_loss: 1.5382e-04\n",
      "Epoch 20/20\n",
      "\u001b[1m657/657\u001b[0m \u001b[32m━━━━━━━━━━━━━━━━━━━━\u001b[0m\u001b[37m\u001b[0m \u001b[1m3s\u001b[0m 5ms/step - loss: 6.6249e-05 - val_loss: 1.4007e-04\n"
     ]
    },
    {
     "data": {
      "text/plain": [
       "<keras.src.callbacks.history.History at 0x2634666b5f0>"
      ]
     },
     "execution_count": 10,
     "metadata": {},
     "output_type": "execute_result"
    }
   ],
   "source": [
    "model = Sequential([\n",
    "    LSTM(64, input_shape=(sequence_length, 2)),\n",
    "    Dense(2)  # Output lat, lon\n",
    "])\n",
    "\n",
    "model.compile(optimizer='adam', loss='mse')\n",
    "model.fit(X, y, epochs=20, batch_size=32, validation_split=0.2)\n"
   ]
  },
  {
   "cell_type": "markdown",
   "id": "3a7f5c59-5952-4ee1-9667-81184cc51b17",
   "metadata": {},
   "source": [
    "## Visualization"
   ]
  },
  {
   "cell_type": "code",
   "execution_count": 12,
   "id": "dad04472-e4ed-4f14-a525-18c1c925e5f5",
   "metadata": {},
   "outputs": [
    {
     "name": "stdout",
     "output_type": "stream",
     "text": [
      "\u001b[1m4/4\u001b[0m \u001b[32m━━━━━━━━━━━━━━━━━━━━\u001b[0m\u001b[37m\u001b[0m \u001b[1m0s\u001b[0m 59ms/step\n"
     ]
    },
    {
     "data": {
      "image/png": "[encoded data removed]",
      "text/plain": [
       "<Figure size 640x480 with 1 Axes>"
      ]
     },
     "metadata": {},
     "output_type": "display_data"
    }
   ],
   "source": [
    "y_pred = model.predict(X[:100])\n",
    "y_true = y[:100]\n",
    "\n",
    "# Reverse scaling\n",
    "y_pred_orig = scaler.inverse_transform(y_pred)\n",
    "y_true_orig = scaler.inverse_transform(y_true)\n",
    "\n",
    "plt.plot(y_true_orig[:, 1], y_true_orig[:, 0], label='Actual Path')\n",
    "plt.plot(y_pred_orig[:, 1], y_pred_orig[:, 0], label='Predicted Path')\n",
    "plt.xlabel('Longitude')\n",
    "plt.ylabel('Latitude')\n",
    "plt.legend()\n",
    "plt.title('GeoLife Path Prediction')\n",
    "plt.grid()\n",
    "plt.show()\n"
   ]
  },
  {
   "cell_type": "code",
   "execution_count": 13,
   "id": "6ae579cc-cc22-477e-8ad5-c1460680652d",
   "metadata": {},
   "outputs": [],
   "source": [
    "recent_path = trajectories[0][['lat', 'lon']].values[:10]  # First 10 points of a trajectory\n"
   ]
  },
  {
   "cell_type": "code",
   "execution_count": 14,
   "id": "e01d2c41-b27e-4460-ae29-6a0379a69eab",
   "metadata": {},
   "outputs": [],
   "source": [
    "recent_scaled = scaler.transform(recent_path)  # Shape: (10, 2)\n"
   ]
  },
  {
   "cell_type": "code",
   "execution_count": 15,
   "id": "5f5da9b2-90d0-43f2-9067-99c9805ad956",
   "metadata": {},
   "outputs": [
    {
     "name": "stdout",
     "output_type": "stream",
     "text": [
      "\u001b[1m1/1\u001b[0m \u001b[32m━━━━━━━━━━━━━━━━━━━━\u001b[0m\u001b[37m\u001b[0m \u001b[1m0s\u001b[0m 40ms/step\n"
     ]
    }
   ],
   "source": [
    "# Reshape to match model input: (1 sample, 10 steps, 2 features)\n",
    "recent_scaled = recent_scaled.reshape(1, 10, 2)\n",
    "\n",
    "# Predict the next point\n",
    "predicted_scaled = model.predict(recent_scaled)\n"
   ]
  },
  {
   "cell_type": "code",
   "execution_count": 16,
   "id": "1398d695-7999-4586-b38d-7b71ac80876a",
   "metadata": {},
   "outputs": [
    {
     "name": "stdout",
     "output_type": "stream",
     "text": [
      "Predicted Next Location:\n",
      "Latitude: 39.985302\n",
      "Longitude: 116.319115\n"
     ]
    }
   ],
   "source": [
    "predicted_point = scaler.inverse_transform(predicted_scaled)\n",
    "predicted_lat, predicted_lon = predicted_point[0]\n",
    "print(\"Predicted Next Location:\")\n",
    "print(\"Latitude:\", predicted_lat)\n",
    "print(\"Longitude:\", predicted_lon)\n"
   ]
  },
  {
   "cell_type": "code",
   "execution_count": 17,
   "id": "71e19c49-ffe1-48e5-925e-006d4b4bf68d",
   "metadata": {},
   "outputs": [
    {
     "name": "stdout",
     "output_type": "stream",
     "text": [
      "Mean Absolute Error (Latitude): 1.3829858140823603e-05\n",
      "Mean Absolute Error (Longitude): 2.1552654103658142e-05\n",
      "Mean Squared Error (Latitude): 2.907501611599057e-10\n",
      "Mean Squared Error (Longitude): 5.145355096023256e-10\n",
      "Root Mean Squared Error (Latitude): 1.705139763069015e-05\n",
      "Root Mean Squared Error (Longitude): 2.2683375181007026e-05\n"
     ]
    }
   ],
   "source": [
    "from sklearn.metrics import mean_absolute_error, mean_squared_error\n",
    "import numpy as np\n",
    "\n",
    "# --- MAE ---\n",
    "mae_lat = mean_absolute_error(y_true_orig[:, 0], y_pred_orig[:, 0])  # Latitude\n",
    "mae_lon = mean_absolute_error(y_true_orig[:, 1], y_pred_orig[:, 1])  # Longitude\n",
    "\n",
    "print(f\"Mean Absolute Error (Latitude): {mae_lat}\")\n",
    "print(f\"Mean Absolute Error (Longitude): {mae_lon}\")\n",
    "\n",
    "# --- MSE ---\n",
    "mse_lat = mean_squared_error(y_true_orig[:, 0], y_pred_orig[:, 0])\n",
    "mse_lon = mean_squared_error(y_true_orig[:, 1], y_pred_orig[:, 1])\n",
    "\n",
    "print(f\"Mean Squared Error (Latitude): {mse_lat}\")\n",
    "print(f\"Mean Squared Error (Longitude): {mse_lon}\")\n",
    "\n",
    "# --- RMSE ---\n",
    "rmse_lat = np.sqrt(mse_lat)\n",
    "rmse_lon = np.sqrt(mse_lon)\n",
    "\n",
    "print(f\"Root Mean Squared Error (Latitude): {rmse_lat}\")\n",
    "print(f\"Root Mean Squared Error (Longitude): {rmse_lon}\")\n"
   ]
  },
  {
   "cell_type": "code",
   "execution_count": 18,
   "id": "bce1d7ad-e7af-4498-8040-688c81ab4045",
   "metadata": {},
   "outputs": [
    {
     "name": "stdout",
     "output_type": "stream",
     "text": [
      "Precision (within 100 meters): 1.00\n",
      "Recall (within 100 meters): 1.00\n",
      "F1-Score (within 100 meters): 1.00\n"
     ]
    }
   ],
   "source": [
    "from geopy.distance import geodesic\n",
    "import numpy as np\n",
    "\n",
    "# Calculate geodesic distances\n",
    "distances = [\n",
    "    geodesic((lat_true, lon_true), (lat_pred, lon_pred)).meters\n",
    "    for (lat_true, lon_true, lat_pred, lon_pred) in zip(\n",
    "        y_true_orig[:, 0], y_true_orig[:, 1],\n",
    "        y_pred_orig[:, 0], y_pred_orig[:, 1]\n",
    "    )\n",
    "]\n",
    "\n",
    "# Define a threshold (e.g., 100 meters)\n",
    "threshold = 100\n",
    "\n",
    "# Convert distances to binary predictions: 1 = correct (TP), 0 = incorrect (FP or FN)\n",
    "y_pred_binary = np.array(distances) <= threshold\n",
    "y_true_binary = np.ones_like(y_pred_binary)  # We expected all points to be predicted\n",
    "\n",
    "# Compute precision, recall, and F1-score\n",
    "from sklearn.metrics import precision_score, recall_score, f1_score\n",
    "\n",
    "precision = precision_score(y_true_binary, y_pred_binary)\n",
    "recall = recall_score(y_true_binary, y_pred_binary)\n",
    "f1 = f1_score(y_true_binary, y_pred_binary)\n",
    "\n",
    "print(f\"Precision (within {threshold} meters): {precision:.2f}\")\n",
    "print(f\"Recall (within {threshold} meters): {recall:.2f}\")\n",
    "print(f\"F1-Score (within {threshold} meters): {f1:.2f}\")\n"
   ]
  },
  {
   "cell_type": "code",
   "execution_count": 19,
   "id": "ca5080c8-0c33-4cf3-95a2-058e70b36465",
   "metadata": {},
   "outputs": [
    {
     "name": "stdout",
     "output_type": "stream",
     "text": [
      "Epoch 1/10\n",
      "\u001b[1m657/657\u001b[0m \u001b[32m━━━━━━━━━━━━━━━━━━━━\u001b[0m\u001b[37m\u001b[0m \u001b[1m3s\u001b[0m 4ms/step - loss: 1.2487e-04\n",
      "Epoch 2/10\n",
      "\u001b[1m657/657\u001b[0m \u001b[32m━━━━━━━━━━━━━━━━━━━━\u001b[0m\u001b[37m\u001b[0m \u001b[1m3s\u001b[0m 4ms/step - loss: 1.0830e-04\n",
      "Epoch 3/10\n",
      "\u001b[1m657/657\u001b[0m \u001b[32m━━━━━━━━━━━━━━━━━━━━\u001b[0m\u001b[37m\u001b[0m \u001b[1m3s\u001b[0m 4ms/step - loss: 9.2625e-05\n",
      "Epoch 4/10\n",
      "\u001b[1m657/657\u001b[0m \u001b[32m━━━━━━━━━━━━━━━━━━━━\u001b[0m\u001b[37m\u001b[0m \u001b[1m3s\u001b[0m 4ms/step - loss: 8.7246e-05\n",
      "Epoch 5/10\n",
      "\u001b[1m657/657\u001b[0m \u001b[32m━━━━━━━━━━━━━━━━━━━━\u001b[0m\u001b[37m\u001b[0m \u001b[1m3s\u001b[0m 4ms/step - loss: 7.3705e-05\n",
      "Epoch 6/10\n",
      "\u001b[1m657/657\u001b[0m \u001b[32m━━━━━━━━━━━━━━━━━━━━\u001b[0m\u001b[37m\u001b[0m \u001b[1m3s\u001b[0m 4ms/step - loss: 6.1192e-05\n",
      "Epoch 7/10\n",
      "\u001b[1m657/657\u001b[0m \u001b[32m━━━━━━━━━━━━━━━━━━━━\u001b[0m\u001b[37m\u001b[0m \u001b[1m3s\u001b[0m 4ms/step - loss: 9.6809e-05\n",
      "Epoch 8/10\n",
      "\u001b[1m657/657\u001b[0m \u001b[32m━━━━━━━━━━━━━━━━━━━━\u001b[0m\u001b[37m\u001b[0m \u001b[1m3s\u001b[0m 4ms/step - loss: 8.2341e-05\n",
      "Epoch 9/10\n",
      "\u001b[1m657/657\u001b[0m \u001b[32m━━━━━━━━━━━━━━━━━━━━\u001b[0m\u001b[37m\u001b[0m \u001b[1m3s\u001b[0m 4ms/step - loss: 8.9311e-05\n",
      "Epoch 10/10\n",
      "\u001b[1m657/657\u001b[0m \u001b[32m━━━━━━━━━━━━━━━━━━━━\u001b[0m\u001b[37m\u001b[0m \u001b[1m3s\u001b[0m 4ms/step - loss: 6.1424e-05\n",
      "\u001b[1m165/165\u001b[0m \u001b[32m━━━━━━━━━━━━━━━━━━━━\u001b[0m\u001b[37m\u001b[0m \u001b[1m0s\u001b[0m 2ms/step\n"
     ]
    }
   ],
   "source": [
    "from sklearn.model_selection import train_test_split\n",
    "X_train, X_test, y_train, y_test = train_test_split(X, y, test_size=0.2, random_state=42)\n",
    "\n",
    "# Fit model\n",
    "model.fit(X_train, y_train, epochs=10)\n",
    "\n",
    "# Predict and inverse transform\n",
    "y_pred = model.predict(X_test)\n",
    "y_pred_orig = scaler.inverse_transform(y_pred)\n",
    "y_true_orig = scaler.inverse_transform(y_test)\n"
   ]
  },
  {
   "cell_type": "code",
   "execution_count": 20,
   "id": "130ade5f-f7cd-457b-9786-f2f0cd69e519",
   "metadata": {},
   "outputs": [
    {
     "name": "stdout",
     "output_type": "stream",
     "text": [
      "Accuracy within 100 meters: 99.94%\n"
     ]
    }
   ],
   "source": [
    "from geopy.distance import geodesic\n",
    "import numpy as np\n",
    "\n",
    "# Compute geodesic distances between each predicted and true point\n",
    "distances = [\n",
    "    geodesic((lat_true, lon_true), (lat_pred, lon_pred)).meters\n",
    "    for (lat_true, lon_true, lat_pred, lon_pred) in zip(\n",
    "        y_true_orig[:, 0], y_true_orig[:, 1],\n",
    "        y_pred_orig[:, 0], y_pred_orig[:, 1]\n",
    "    )\n",
    "]\n",
    "\n",
    "# Define tolerance in meters (e.g., 100 meters)\n",
    "tolerance = 100\n",
    "\n",
    "# Compute percentage of predictions within the tolerance\n",
    "within_tolerance = np.sum(np.array(distances) <= tolerance) / len(distances)\n",
    "accuracy_percent = within_tolerance * 100\n",
    "\n",
    "print(f\"Accuracy within {tolerance} meters: {accuracy_percent:.2f}%\")\n",
    "\n"
   ]
  },
  {
   "cell_type": "code",
   "execution_count": 21,
   "id": "c281db8e-5d9e-4373-abf3-bb99411cb265",
   "metadata": {},
   "outputs": [],
   "source": [
    "from sklearn.model_selection import train_test_split\n",
    "X_train, X_test, y_train, y_test = train_test_split(X, y, test_size=0.2, shuffle=False)  # Time-series data: avoid shuffling\n",
    "scaler = MinMaxScaler()\n",
    "X_train = scaler.fit_transform(X_train.reshape(-1, 2)).reshape(-1, 10, 2)  # Scale only training data\n",
    "X_test = scaler.transform(X_test.reshape(-1, 2)).reshape(-1, 10, 2)  # Use same scaler on test data"
   ]
  },
  {
   "cell_type": "code",
   "execution_count": 27,
   "id": "49be1622-0fe3-4c0d-bcdf-76a40ea33d97",
   "metadata": {},
   "outputs": [
    {
     "name": "stdout",
     "output_type": "stream",
     "text": [
      "Accuracy (within 5 meters): 85.12%\n"
     ]
    }
   ],
   "source": [
    "from haversine import haversine\n",
    "\n",
    "# Define threshold (in meters)\n",
    "threshold = 5  # Adjust based on your use case\n",
    "\n",
    "# Calculate Haversine distances\n",
    "haversine_errors = [\n",
    "    haversine((true_lat, true_lon), (pred_lat, pred_lon), unit='m')\n",
    "    for (true_lat, true_lon), (pred_lat, pred_lon) in zip(y_true_orig, y_pred_orig)\n",
    "]\n",
    "\n",
    "# Percentage of predictions within threshold\n",
    "accuracy_percentage = (np.array(haversine_errors) <= threshold).mean() * 100\n",
    "print(f\"Accuracy (within {threshold} meters): {accuracy_percentage:.2f}%\")"
   ]
  },
  {
   "cell_type": "code",
   "execution_count": 28,
   "id": "1b407166-4325-4bc5-a4bc-86888fd05640",
   "metadata": {},
   "outputs": [
    {
     "name": "stdout",
     "output_type": "stream",
     "text": [
      "Relative Error (Latitude): 0.05%\n",
      "Relative Error (Longitude): 0.05%\n"
     ]
    }
   ],
   "source": [
    "# Calculate range of latitude/longitude in the dataset\n",
    "lat_range = np.ptp(trajectories[0]['lat'])  # Peak-to-peak range\n",
    "lon_range = np.ptp(trajectories[0]['lon'])\n",
    "\n",
    "# Average relative error (in %)\n",
    "avg_relative_error_lat = (mae_lat / lat_range) * 100\n",
    "avg_relative_error_lon = (mae_lon / lon_range) * 100\n",
    "print(f\"Relative Error (Latitude): {avg_relative_error_lat:.2f}%\")\n",
    "print(f\"Relative Error (Longitude): {avg_relative_error_lon:.2f}%\")\n"
   ]
  },
  {
   "cell_type": "code",
   "execution_count": 32,
   "id": "f20ba603-b492-4d60-bab5-0e696e6bcedb",
   "metadata": {},
   "outputs": [
    {
     "name": "stdout",
     "output_type": "stream",
     "text": [
      "Accuracy (within 5m): 85.1%\n",
      "Accuracy (within 10m): 95.2%\n",
      "Accuracy (within 20m): 98.2%\n"
     ]
    }
   ],
   "source": [
    "# 1. Calculate Haversine accuracy\n",
    "thresholds = [5, 10, 20]  # Meters\n",
    "for thresh in thresholds:\n",
    "    accuracy = (np.array(haversine_errors) <= thresh).mean() * 100\n",
    "    print(f\"Accuracy (within {thresh}m): {accuracy:.1f}%\")\n"
   ]
  },
  {
   "cell_type": "code",
   "execution_count": null,
   "id": "655666d7-5fd5-4da0-958f-2d61ca764dad",
   "metadata": {},
   "outputs": [],
   "source": []
  }
 ],
 "metadata": {
  "kernelspec": {
   "display_name": "Python [conda env:base] *",
   "language": "python",
   "name": "conda-base-py"
  },
  "language_info": {
   "codemirror_mode": {
    "name": "ipython",
    "version": 3
   },
   "file_extension": ".py",
   "mimetype": "text/x-python",
   "name": "python",
   "nbconvert_exporter": "python",
   "pygments_lexer": "ipython3",
   "version": "3.12.7"
  }
 },
 "nbformat": 4,
 "nbformat_minor": 5
}
